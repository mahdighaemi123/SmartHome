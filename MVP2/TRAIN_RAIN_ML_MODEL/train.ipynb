{
 "cells": [
  {
   "cell_type": "code",
   "execution_count": 1,
   "metadata": {},
   "outputs": [],
   "source": [
    "#  !  pip install lazypredict-nightly"
   ]
  },
  {
   "cell_type": "code",
   "execution_count": 2,
   "metadata": {},
   "outputs": [],
   "source": [
    "# ! pip install -U imbalanced-learn"
   ]
  },
  {
   "cell_type": "code",
   "execution_count": 3,
   "metadata": {},
   "outputs": [],
   "source": [
    "colums = [\"Humidity9am\",\"Temp9am\",\"RainToday\",\"RainTomorrow\"]\n",
    "test_size = 0.25\n",
    "save_k_top_model=5"
   ]
  },
  {
   "cell_type": "code",
   "execution_count": 4,
   "metadata": {},
   "outputs": [
    {
     "name": "stdout",
     "output_type": "stream",
     "text": [
      "[('AdaBoostClassifier', <class 'sklearn.ensemble._weight_boosting.AdaBoostClassifier'>), ('BaggingClassifier', <class 'sklearn.ensemble._bagging.BaggingClassifier'>), ('BernoulliNB', <class 'sklearn.naive_bayes.BernoulliNB'>), ('CalibratedClassifierCV', <class 'sklearn.calibration.CalibratedClassifierCV'>), ('CategoricalNB', <class 'sklearn.naive_bayes.CategoricalNB'>), ('DecisionTreeClassifier', <class 'sklearn.tree._classes.DecisionTreeClassifier'>), ('DummyClassifier', <class 'sklearn.dummy.DummyClassifier'>), ('ExtraTreeClassifier', <class 'sklearn.tree._classes.ExtraTreeClassifier'>), ('ExtraTreesClassifier', <class 'sklearn.ensemble._forest.ExtraTreesClassifier'>), ('GaussianNB', <class 'sklearn.naive_bayes.GaussianNB'>), ('KNeighborsClassifier', <class 'sklearn.neighbors._classification.KNeighborsClassifier'>), ('LabelPropagation', <class 'sklearn.semi_supervised._label_propagation.LabelPropagation'>), ('LabelSpreading', <class 'sklearn.semi_supervised._label_propagation.LabelSpreading'>), ('LinearDiscriminantAnalysis', <class 'sklearn.discriminant_analysis.LinearDiscriminantAnalysis'>), ('LinearSVC', <class 'sklearn.svm._classes.LinearSVC'>), ('LogisticRegression', <class 'sklearn.linear_model._logistic.LogisticRegression'>), ('NearestCentroid', <class 'sklearn.neighbors._nearest_centroid.NearestCentroid'>), ('NuSVC', <class 'sklearn.svm._classes.NuSVC'>), ('PassiveAggressiveClassifier', <class 'sklearn.linear_model._passive_aggressive.PassiveAggressiveClassifier'>), ('Perceptron', <class 'sklearn.linear_model._perceptron.Perceptron'>), ('QuadraticDiscriminantAnalysis', <class 'sklearn.discriminant_analysis.QuadraticDiscriminantAnalysis'>), ('RandomForestClassifier', <class 'sklearn.ensemble._forest.RandomForestClassifier'>), ('RidgeClassifier', <class 'sklearn.linear_model._ridge.RidgeClassifier'>), ('RidgeClassifierCV', <class 'sklearn.linear_model._ridge.RidgeClassifierCV'>), ('SGDClassifier', <class 'sklearn.linear_model._stochastic_gradient.SGDClassifier'>), ('SVC', <class 'sklearn.svm._classes.SVC'>), ('StackingClassifier', <class 'sklearn.ensemble._stacking.StackingClassifier'>)]\n"
     ]
    }
   ],
   "source": [
    "import pandas as pd\n",
    "import numpy as np\n",
    "import pickle\n",
    "\n",
    "from lazypredict import LazyClassifier\n",
    "from sklearn.model_selection import train_test_split\n",
    "from imblearn.over_sampling import SMOTE"
   ]
  },
  {
   "cell_type": "code",
   "execution_count": 5,
   "metadata": {},
   "outputs": [],
   "source": [
    "df = pd.read_csv(\"weatherAUS.csv\",usecols=colums)"
   ]
  },
  {
   "cell_type": "code",
   "execution_count": 6,
   "metadata": {},
   "outputs": [
    {
     "data": {
      "text/html": [
       "<div>\n",
       "<style scoped>\n",
       "    .dataframe tbody tr th:only-of-type {\n",
       "        vertical-align: middle;\n",
       "    }\n",
       "\n",
       "    .dataframe tbody tr th {\n",
       "        vertical-align: top;\n",
       "    }\n",
       "\n",
       "    .dataframe thead th {\n",
       "        text-align: right;\n",
       "    }\n",
       "</style>\n",
       "<table border=\"1\" class=\"dataframe\">\n",
       "  <thead>\n",
       "    <tr style=\"text-align: right;\">\n",
       "      <th></th>\n",
       "      <th>Humidity9am</th>\n",
       "      <th>Temp9am</th>\n",
       "      <th>RainToday</th>\n",
       "      <th>RainTomorrow</th>\n",
       "    </tr>\n",
       "  </thead>\n",
       "  <tbody>\n",
       "    <tr>\n",
       "      <th>0</th>\n",
       "      <td>71.00</td>\n",
       "      <td>16.90</td>\n",
       "      <td>No</td>\n",
       "      <td>No</td>\n",
       "    </tr>\n",
       "    <tr>\n",
       "      <th>1</th>\n",
       "      <td>44.00</td>\n",
       "      <td>17.20</td>\n",
       "      <td>No</td>\n",
       "      <td>No</td>\n",
       "    </tr>\n",
       "    <tr>\n",
       "      <th>2</th>\n",
       "      <td>38.00</td>\n",
       "      <td>21.00</td>\n",
       "      <td>No</td>\n",
       "      <td>No</td>\n",
       "    </tr>\n",
       "    <tr>\n",
       "      <th>3</th>\n",
       "      <td>45.00</td>\n",
       "      <td>18.10</td>\n",
       "      <td>No</td>\n",
       "      <td>No</td>\n",
       "    </tr>\n",
       "    <tr>\n",
       "      <th>4</th>\n",
       "      <td>82.00</td>\n",
       "      <td>17.80</td>\n",
       "      <td>No</td>\n",
       "      <td>No</td>\n",
       "    </tr>\n",
       "  </tbody>\n",
       "</table>\n",
       "</div>"
      ],
      "text/plain": [
       "   Humidity9am  Temp9am RainToday RainTomorrow\n",
       "0        71.00    16.90        No           No\n",
       "1        44.00    17.20        No           No\n",
       "2        38.00    21.00        No           No\n",
       "3        45.00    18.10        No           No\n",
       "4        82.00    17.80        No           No"
      ]
     },
     "execution_count": 6,
     "metadata": {},
     "output_type": "execute_result"
    }
   ],
   "source": [
    "df.head()"
   ]
  },
  {
   "cell_type": "code",
   "execution_count": 7,
   "metadata": {},
   "outputs": [
    {
     "data": {
      "text/html": [
       "<div>\n",
       "<style scoped>\n",
       "    .dataframe tbody tr th:only-of-type {\n",
       "        vertical-align: middle;\n",
       "    }\n",
       "\n",
       "    .dataframe tbody tr th {\n",
       "        vertical-align: top;\n",
       "    }\n",
       "\n",
       "    .dataframe thead th {\n",
       "        text-align: right;\n",
       "    }\n",
       "</style>\n",
       "<table border=\"1\" class=\"dataframe\">\n",
       "  <thead>\n",
       "    <tr style=\"text-align: right;\">\n",
       "      <th></th>\n",
       "      <th>Humidity9am</th>\n",
       "      <th>Temp9am</th>\n",
       "    </tr>\n",
       "  </thead>\n",
       "  <tbody>\n",
       "    <tr>\n",
       "      <th>count</th>\n",
       "      <td>142806.00</td>\n",
       "      <td>143693.00</td>\n",
       "    </tr>\n",
       "    <tr>\n",
       "      <th>mean</th>\n",
       "      <td>68.88</td>\n",
       "      <td>16.99</td>\n",
       "    </tr>\n",
       "    <tr>\n",
       "      <th>std</th>\n",
       "      <td>19.03</td>\n",
       "      <td>6.49</td>\n",
       "    </tr>\n",
       "    <tr>\n",
       "      <th>min</th>\n",
       "      <td>0.00</td>\n",
       "      <td>-7.20</td>\n",
       "    </tr>\n",
       "    <tr>\n",
       "      <th>25%</th>\n",
       "      <td>57.00</td>\n",
       "      <td>12.30</td>\n",
       "    </tr>\n",
       "    <tr>\n",
       "      <th>50%</th>\n",
       "      <td>70.00</td>\n",
       "      <td>16.70</td>\n",
       "    </tr>\n",
       "    <tr>\n",
       "      <th>75%</th>\n",
       "      <td>83.00</td>\n",
       "      <td>21.60</td>\n",
       "    </tr>\n",
       "    <tr>\n",
       "      <th>max</th>\n",
       "      <td>100.00</td>\n",
       "      <td>40.20</td>\n",
       "    </tr>\n",
       "  </tbody>\n",
       "</table>\n",
       "</div>"
      ],
      "text/plain": [
       "       Humidity9am   Temp9am\n",
       "count    142806.00 143693.00\n",
       "mean         68.88     16.99\n",
       "std          19.03      6.49\n",
       "min           0.00     -7.20\n",
       "25%          57.00     12.30\n",
       "50%          70.00     16.70\n",
       "75%          83.00     21.60\n",
       "max         100.00     40.20"
      ]
     },
     "execution_count": 7,
     "metadata": {},
     "output_type": "execute_result"
    }
   ],
   "source": [
    "df.describe()"
   ]
  },
  {
   "cell_type": "code",
   "execution_count": 8,
   "metadata": {},
   "outputs": [],
   "source": [
    "df.dropna(inplace=True)"
   ]
  },
  {
   "cell_type": "code",
   "execution_count": 9,
   "metadata": {},
   "outputs": [],
   "source": [
    "df[\"RainTomorrow\"] = df[\"RainTomorrow\"].map({\"No\":0,\"Yes\":1})\n",
    "df[\"RainToday\"] = df[\"RainToday\"].map({\"No\":0,\"Yes\":1})"
   ]
  },
  {
   "cell_type": "code",
   "execution_count": 10,
   "metadata": {},
   "outputs": [],
   "source": [
    "df[\"Humidity9am\"] = df[\"Humidity9am\"].astype('float32')\n",
    "df[\"Temp9am\"] = df[\"Temp9am\"].astype('float32')\n",
    "\n",
    "df[\"RainTomorrow\"] = df[\"RainTomorrow\"].astype('int')\n",
    "df[\"RainToday\"] = df[\"RainToday\"].astype('int')"
   ]
  },
  {
   "cell_type": "code",
   "execution_count": 11,
   "metadata": {},
   "outputs": [
    {
     "data": {
      "text/html": [
       "<div>\n",
       "<style scoped>\n",
       "    .dataframe tbody tr th:only-of-type {\n",
       "        vertical-align: middle;\n",
       "    }\n",
       "\n",
       "    .dataframe tbody tr th {\n",
       "        vertical-align: top;\n",
       "    }\n",
       "\n",
       "    .dataframe thead th {\n",
       "        text-align: right;\n",
       "    }\n",
       "</style>\n",
       "<table border=\"1\" class=\"dataframe\">\n",
       "  <thead>\n",
       "    <tr style=\"text-align: right;\">\n",
       "      <th></th>\n",
       "      <th>Humidity9am</th>\n",
       "      <th>Temp9am</th>\n",
       "      <th>RainToday</th>\n",
       "      <th>RainTomorrow</th>\n",
       "    </tr>\n",
       "  </thead>\n",
       "  <tbody>\n",
       "    <tr>\n",
       "      <th>0</th>\n",
       "      <td>71.00</td>\n",
       "      <td>16.90</td>\n",
       "      <td>0</td>\n",
       "      <td>0</td>\n",
       "    </tr>\n",
       "    <tr>\n",
       "      <th>1</th>\n",
       "      <td>44.00</td>\n",
       "      <td>17.20</td>\n",
       "      <td>0</td>\n",
       "      <td>0</td>\n",
       "    </tr>\n",
       "    <tr>\n",
       "      <th>2</th>\n",
       "      <td>38.00</td>\n",
       "      <td>21.00</td>\n",
       "      <td>0</td>\n",
       "      <td>0</td>\n",
       "    </tr>\n",
       "    <tr>\n",
       "      <th>3</th>\n",
       "      <td>45.00</td>\n",
       "      <td>18.10</td>\n",
       "      <td>0</td>\n",
       "      <td>0</td>\n",
       "    </tr>\n",
       "    <tr>\n",
       "      <th>4</th>\n",
       "      <td>82.00</td>\n",
       "      <td>17.80</td>\n",
       "      <td>0</td>\n",
       "      <td>0</td>\n",
       "    </tr>\n",
       "  </tbody>\n",
       "</table>\n",
       "</div>"
      ],
      "text/plain": [
       "   Humidity9am  Temp9am  RainToday  RainTomorrow\n",
       "0        71.00    16.90          0             0\n",
       "1        44.00    17.20          0             0\n",
       "2        38.00    21.00          0             0\n",
       "3        45.00    18.10          0             0\n",
       "4        82.00    17.80          0             0"
      ]
     },
     "execution_count": 11,
     "metadata": {},
     "output_type": "execute_result"
    }
   ],
   "source": [
    "df.head()"
   ]
  },
  {
   "cell_type": "code",
   "execution_count": 12,
   "metadata": {},
   "outputs": [
    {
     "data": {
      "text/html": [
       "<div>\n",
       "<style scoped>\n",
       "    .dataframe tbody tr th:only-of-type {\n",
       "        vertical-align: middle;\n",
       "    }\n",
       "\n",
       "    .dataframe tbody tr th {\n",
       "        vertical-align: top;\n",
       "    }\n",
       "\n",
       "    .dataframe thead th {\n",
       "        text-align: right;\n",
       "    }\n",
       "</style>\n",
       "<table border=\"1\" class=\"dataframe\">\n",
       "  <thead>\n",
       "    <tr style=\"text-align: right;\">\n",
       "      <th></th>\n",
       "      <th>Humidity9am</th>\n",
       "      <th>Temp9am</th>\n",
       "      <th>RainToday</th>\n",
       "      <th>RainTomorrow</th>\n",
       "    </tr>\n",
       "  </thead>\n",
       "  <tbody>\n",
       "    <tr>\n",
       "      <th>count</th>\n",
       "      <td>139270.00</td>\n",
       "      <td>139270.00</td>\n",
       "      <td>139270.00</td>\n",
       "      <td>139270.00</td>\n",
       "    </tr>\n",
       "    <tr>\n",
       "      <th>mean</th>\n",
       "      <td>68.83</td>\n",
       "      <td>17.00</td>\n",
       "      <td>0.22</td>\n",
       "      <td>0.22</td>\n",
       "    </tr>\n",
       "    <tr>\n",
       "      <th>std</th>\n",
       "      <td>19.06</td>\n",
       "      <td>6.49</td>\n",
       "      <td>0.42</td>\n",
       "      <td>0.41</td>\n",
       "    </tr>\n",
       "    <tr>\n",
       "      <th>min</th>\n",
       "      <td>0.00</td>\n",
       "      <td>-7.20</td>\n",
       "      <td>0.00</td>\n",
       "      <td>0.00</td>\n",
       "    </tr>\n",
       "    <tr>\n",
       "      <th>25%</th>\n",
       "      <td>57.00</td>\n",
       "      <td>12.30</td>\n",
       "      <td>0.00</td>\n",
       "      <td>0.00</td>\n",
       "    </tr>\n",
       "    <tr>\n",
       "      <th>50%</th>\n",
       "      <td>70.00</td>\n",
       "      <td>16.70</td>\n",
       "      <td>0.00</td>\n",
       "      <td>0.00</td>\n",
       "    </tr>\n",
       "    <tr>\n",
       "      <th>75%</th>\n",
       "      <td>83.00</td>\n",
       "      <td>21.60</td>\n",
       "      <td>0.00</td>\n",
       "      <td>0.00</td>\n",
       "    </tr>\n",
       "    <tr>\n",
       "      <th>max</th>\n",
       "      <td>100.00</td>\n",
       "      <td>40.20</td>\n",
       "      <td>1.00</td>\n",
       "      <td>1.00</td>\n",
       "    </tr>\n",
       "  </tbody>\n",
       "</table>\n",
       "</div>"
      ],
      "text/plain": [
       "       Humidity9am   Temp9am  RainToday  RainTomorrow\n",
       "count    139270.00 139270.00  139270.00     139270.00\n",
       "mean         68.83     17.00       0.22          0.22\n",
       "std          19.06      6.49       0.42          0.41\n",
       "min           0.00     -7.20       0.00          0.00\n",
       "25%          57.00     12.30       0.00          0.00\n",
       "50%          70.00     16.70       0.00          0.00\n",
       "75%          83.00     21.60       0.00          0.00\n",
       "max         100.00     40.20       1.00          1.00"
      ]
     },
     "execution_count": 12,
     "metadata": {},
     "output_type": "execute_result"
    }
   ],
   "source": [
    "df.describe()"
   ]
  },
  {
   "cell_type": "code",
   "execution_count": 13,
   "metadata": {},
   "outputs": [],
   "source": [
    "df.to_csv(\"weatherAUS-preprocessed.csv\")"
   ]
  },
  {
   "cell_type": "code",
   "execution_count": 14,
   "metadata": {},
   "outputs": [],
   "source": [
    "X = df[colums[:-1]]\n",
    "y = df[colums[-1]]"
   ]
  },
  {
   "cell_type": "code",
   "execution_count": 15,
   "metadata": {},
   "outputs": [],
   "source": [
    "X = X[:3000]\n",
    "y = y[:3000]"
   ]
  },
  {
   "cell_type": "code",
   "execution_count": 16,
   "metadata": {},
   "outputs": [],
   "source": [
    "os = SMOTE()\n",
    "X, y = os.fit_resample(X, y)"
   ]
  },
  {
   "cell_type": "code",
   "execution_count": 17,
   "metadata": {},
   "outputs": [],
   "source": [
    "X_train, X_test, y_train, y_test = train_test_split(X, y,test_size=test_size,random_state =123)\n",
    "\n",
    "clf = LazyClassifier(verbose=10,ignore_warnings=False, custom_metric=None)"
   ]
  },
  {
   "cell_type": "code",
   "execution_count": 18,
   "metadata": {},
   "outputs": [
    {
     "name": "stderr",
     "output_type": "stream",
     "text": [
      " 15%|█▍        | 4/27 [00:00<00:01, 17.84it/s]"
     ]
    },
    {
     "name": "stdout",
     "output_type": "stream",
     "text": [
      "{'Model': 'AdaBoostClassifier', 'Accuracy': 0.6613579212070411, 'Balanced Accuracy': 0.6613478466156285, 'ROC AUC': 0.6613478466156286, 'F1 Score': 0.6613079467606884, 'Time taken': 0.14211463928222656}\n",
      "{'Model': 'BaggingClassifier', 'Accuracy': 0.7544006705783739, 'Balanced Accuracy': 0.7543927692152035, 'ROC AUC': 0.7543927692152036, 'F1 Score': 0.7543778900305691, 'Time taken': 0.06141066551208496}\n",
      "{'Model': 'BernoulliNB', 'Accuracy': 0.6102263202011735, 'Balanced Accuracy': 0.6103166840915989, 'ROC AUC': 0.6103166840915989, 'F1 Score': 0.6056516502784458, 'Time taken': 0.01200413703918457}\n",
      "{'Model': 'CalibratedClassifierCV', 'Accuracy': 0.6345347862531433, 'Balanced Accuracy': 0.6345190718694143, 'ROC AUC': 0.6345190718694141, 'F1 Score': 0.6344048060756271, 'Time taken': 0.03352808952331543}\n",
      "CategoricalNB model failed to execute\n",
      "Negative values in data passed to CategoricalNB (input X)\n",
      "{'Model': 'DecisionTreeClassifier', 'Accuracy': 0.7275775356244761, 'Balanced Accuracy': 0.7275639944689892, 'ROC AUC': 0.7275639944689892, 'F1 Score': 0.7275047798109902, 'Time taken': 0.015512704849243164}\n",
      "{'Model': 'DummyClassifier', 'Accuracy': 0.49958088851634536, 'Balanced Accuracy': 0.5, 'ROC AUC': 0.5, 'F1 Score': 0.33286775802765994, 'Time taken': 0.007999658584594727}\n",
      "{'Model': 'ExtraTreeClassifier', 'Accuracy': 0.7242246437552389, 'Balanced Accuracy': 0.7242054792980563, 'ROC AUC': 0.7242054792980562, 'F1 Score': 0.724078076936849, 'Time taken': 0.01034235954284668}\n"
     ]
    },
    {
     "name": "stderr",
     "output_type": "stream",
     "text": [
      " 33%|███▎      | 9/27 [00:00<00:00, 18.27it/s]"
     ]
    },
    {
     "name": "stdout",
     "output_type": "stream",
     "text": [
      "{'Model': 'ExtraTreesClassifier', 'Accuracy': 0.7745180217937971, 'Balanced Accuracy': 0.7745227816937035, 'ROC AUC': 0.7745227816937035, 'F1 Score': 0.774511367664665, 'Time taken': 0.22948074340820312}\n",
      "{'Model': 'GaussianNB', 'Accuracy': 0.6026823134953898, 'Balanced Accuracy': 0.602634256292649, 'ROC AUC': 0.602634256292649, 'F1 Score': 0.6013680869491802, 'Time taken': 0.01100015640258789}\n",
      "{'Model': 'KNeighborsClassifier', 'Accuracy': 0.730092204526404, 'Balanced Accuracy': 0.7301426033972997, 'ROC AUC': 0.7301426033972997, 'F1 Score': 0.7291193086955661, 'Time taken': 0.04799985885620117}\n"
     ]
    },
    {
     "name": "stderr",
     "output_type": "stream",
     "text": [
      " 44%|████▍     | 12/27 [00:00<00:01, 13.54it/s]"
     ]
    },
    {
     "name": "stdout",
     "output_type": "stream",
     "text": [
      "{'Model': 'LabelPropagation', 'Accuracy': 0.6856663872590109, 'Balanced Accuracy': 0.6856710847301384, 'ROC AUC': 0.6856710847301384, 'F1 Score': 0.685657111056689, 'Time taken': 0.2632577419281006}\n"
     ]
    },
    {
     "name": "stderr",
     "output_type": "stream",
     "text": [
      " 52%|█████▏    | 14/27 [00:01<00:01,  9.61it/s]"
     ]
    },
    {
     "name": "stdout",
     "output_type": "stream",
     "text": [
      "{'Model': 'LabelSpreading', 'Accuracy': 0.6814752724224644, 'Balanced Accuracy': 0.6814820748035479, 'ROC AUC': 0.6814820748035479, 'F1 Score': 0.681455129174807, 'Time taken': 0.35391712188720703}\n",
      "{'Model': 'LinearDiscriminantAnalysis', 'Accuracy': 0.6353730092204526, 'Balanced Accuracy': 0.6353523770980181, 'ROC AUC': 0.635352377098018, 'F1 Score': 0.6351499799344066, 'Time taken': 0.03004908561706543}\n",
      "{'Model': 'LinearSVC', 'Accuracy': 0.6353730092204526, 'Balanced Accuracy': 0.6353523770980181, 'ROC AUC': 0.635352377098018, 'F1 Score': 0.6351499799344066, 'Time taken': 0.04252791404724121}\n",
      "{'Model': 'LogisticRegression', 'Accuracy': 0.6370494551550713, 'Balanced Accuracy': 0.6370302294470114, 'ROC AUC': 0.6370302294470114, 'F1 Score': 0.6368565571843635, 'Time taken': 0.01584935188293457}\n",
      "{'Model': 'NearestCentroid', 'Accuracy': 0.597652975691534, 'Balanced Accuracy': 0.5976372353939721, 'ROC AUC': 0.5976372353939722, 'F1 Score': 0.5975098782483967, 'Time taken': 0.011013269424438477}\n"
     ]
    },
    {
     "name": "stderr",
     "output_type": "stream",
     "text": [
      " 67%|██████▋   | 18/27 [00:01<00:01,  8.42it/s]"
     ]
    },
    {
     "name": "stdout",
     "output_type": "stream",
     "text": [
      "{'Model': 'NuSVC', 'Accuracy': 0.5984911986588433, 'Balanced Accuracy': 0.5985112924802986, 'ROC AUC': 0.5985112924802987, 'F1 Score': 0.598262001352274, 'Time taken': 0.485607385635376}\n",
      "{'Model': 'PassiveAggressiveClassifier', 'Accuracy': 0.5917854149203688, 'Balanced Accuracy': 0.5918069092666913, 'ROC AUC': 0.5918069092666914, 'F1 Score': 0.5915185046443929, 'Time taken': 0.014515399932861328}\n",
      "{'Model': 'Perceptron', 'Accuracy': 0.5322715842414082, 'Balanced Accuracy': 0.5323148179375625, 'ROC AUC': 0.5323148179375625, 'F1 Score': 0.5310254313875027, 'Time taken': 0.013447761535644531}\n",
      "{'Model': 'QuadraticDiscriminantAnalysis', 'Accuracy': 0.6320201173512154, 'Balanced Accuracy': 0.6318926849010151, 'ROC AUC': 0.6318926849010152, 'F1 Score': 0.6233000430455118, 'Time taken': 0.02151179313659668}\n"
     ]
    },
    {
     "name": "stderr",
     "output_type": "stream",
     "text": [
      " 81%|████████▏ | 22/27 [00:02<00:00,  8.96it/s]"
     ]
    },
    {
     "name": "stdout",
     "output_type": "stream",
     "text": [
      "{'Model': 'RandomForestClassifier', 'Accuracy': 0.7661357921207042, 'Balanced Accuracy': 0.7661391408946298, 'ROC AUC': 0.7661391408946296, 'F1 Score': 0.7661325057409212, 'Time taken': 0.34909963607788086}\n",
      "{'Model': 'RidgeClassifier', 'Accuracy': 0.6353730092204526, 'Balanced Accuracy': 0.6353523770980181, 'ROC AUC': 0.635352377098018, 'F1 Score': 0.6351499799344066, 'Time taken': 0.02308034896850586}\n",
      "{'Model': 'RidgeClassifierCV', 'Accuracy': 0.6353730092204526, 'Balanced Accuracy': 0.6353523770980181, 'ROC AUC': 0.635352377098018, 'F1 Score': 0.6351499799344066, 'Time taken': 0.014706850051879883}\n",
      "{'Model': 'SGDClassifier', 'Accuracy': 0.6387259010896899, 'Balanced Accuracy': 0.6387994221667622, 'ROC AUC': 0.6387994221667622, 'F1 Score': 0.6359327681339315, 'Time taken': 0.017563819885253906}\n"
     ]
    },
    {
     "name": "stderr",
     "output_type": "stream",
     "text": [
      "100%|██████████| 27/27 [00:02<00:00, 10.20it/s]"
     ]
    },
    {
     "name": "stdout",
     "output_type": "stream",
     "text": [
      "{'Model': 'SVC', 'Accuracy': 0.6571668063704945, 'Balanced Accuracy': 0.6571630523984576, 'ROC AUC': 0.6571630523984575, 'F1 Score': 0.6571595797671619, 'Time taken': 0.4098639488220215}\n",
      "StackingClassifier model failed to execute\n",
      "StackingClassifier.__init__() missing 1 required positional argument: 'estimators'\n"
     ]
    },
    {
     "name": "stderr",
     "output_type": "stream",
     "text": [
      "\n"
     ]
    }
   ],
   "source": [
    "models,predictions = clf.fit(X_train, X_test, y_train, y_test)"
   ]
  },
  {
   "cell_type": "code",
   "execution_count": 19,
   "metadata": {},
   "outputs": [
    {
     "data": {
      "text/html": [
       "<div>\n",
       "<style scoped>\n",
       "    .dataframe tbody tr th:only-of-type {\n",
       "        vertical-align: middle;\n",
       "    }\n",
       "\n",
       "    .dataframe tbody tr th {\n",
       "        vertical-align: top;\n",
       "    }\n",
       "\n",
       "    .dataframe thead th {\n",
       "        text-align: right;\n",
       "    }\n",
       "</style>\n",
       "<table border=\"1\" class=\"dataframe\">\n",
       "  <thead>\n",
       "    <tr style=\"text-align: right;\">\n",
       "      <th></th>\n",
       "      <th>Accuracy</th>\n",
       "      <th>Balanced Accuracy</th>\n",
       "      <th>ROC AUC</th>\n",
       "      <th>F1 Score</th>\n",
       "      <th>Time Taken</th>\n",
       "    </tr>\n",
       "    <tr>\n",
       "      <th>Model</th>\n",
       "      <th></th>\n",
       "      <th></th>\n",
       "      <th></th>\n",
       "      <th></th>\n",
       "      <th></th>\n",
       "    </tr>\n",
       "  </thead>\n",
       "  <tbody>\n",
       "    <tr>\n",
       "      <th>ExtraTreesClassifier</th>\n",
       "      <td>0.77</td>\n",
       "      <td>0.77</td>\n",
       "      <td>0.77</td>\n",
       "      <td>0.77</td>\n",
       "      <td>0.23</td>\n",
       "    </tr>\n",
       "    <tr>\n",
       "      <th>RandomForestClassifier</th>\n",
       "      <td>0.77</td>\n",
       "      <td>0.77</td>\n",
       "      <td>0.77</td>\n",
       "      <td>0.77</td>\n",
       "      <td>0.35</td>\n",
       "    </tr>\n",
       "    <tr>\n",
       "      <th>BaggingClassifier</th>\n",
       "      <td>0.75</td>\n",
       "      <td>0.75</td>\n",
       "      <td>0.75</td>\n",
       "      <td>0.75</td>\n",
       "      <td>0.06</td>\n",
       "    </tr>\n",
       "    <tr>\n",
       "      <th>KNeighborsClassifier</th>\n",
       "      <td>0.73</td>\n",
       "      <td>0.73</td>\n",
       "      <td>0.73</td>\n",
       "      <td>0.73</td>\n",
       "      <td>0.05</td>\n",
       "    </tr>\n",
       "    <tr>\n",
       "      <th>DecisionTreeClassifier</th>\n",
       "      <td>0.73</td>\n",
       "      <td>0.73</td>\n",
       "      <td>0.73</td>\n",
       "      <td>0.73</td>\n",
       "      <td>0.02</td>\n",
       "    </tr>\n",
       "    <tr>\n",
       "      <th>ExtraTreeClassifier</th>\n",
       "      <td>0.72</td>\n",
       "      <td>0.72</td>\n",
       "      <td>0.72</td>\n",
       "      <td>0.72</td>\n",
       "      <td>0.01</td>\n",
       "    </tr>\n",
       "    <tr>\n",
       "      <th>LabelPropagation</th>\n",
       "      <td>0.69</td>\n",
       "      <td>0.69</td>\n",
       "      <td>0.69</td>\n",
       "      <td>0.69</td>\n",
       "      <td>0.26</td>\n",
       "    </tr>\n",
       "    <tr>\n",
       "      <th>LabelSpreading</th>\n",
       "      <td>0.68</td>\n",
       "      <td>0.68</td>\n",
       "      <td>0.68</td>\n",
       "      <td>0.68</td>\n",
       "      <td>0.35</td>\n",
       "    </tr>\n",
       "    <tr>\n",
       "      <th>AdaBoostClassifier</th>\n",
       "      <td>0.66</td>\n",
       "      <td>0.66</td>\n",
       "      <td>0.66</td>\n",
       "      <td>0.66</td>\n",
       "      <td>0.14</td>\n",
       "    </tr>\n",
       "    <tr>\n",
       "      <th>SVC</th>\n",
       "      <td>0.66</td>\n",
       "      <td>0.66</td>\n",
       "      <td>0.66</td>\n",
       "      <td>0.66</td>\n",
       "      <td>0.41</td>\n",
       "    </tr>\n",
       "    <tr>\n",
       "      <th>SGDClassifier</th>\n",
       "      <td>0.64</td>\n",
       "      <td>0.64</td>\n",
       "      <td>0.64</td>\n",
       "      <td>0.64</td>\n",
       "      <td>0.02</td>\n",
       "    </tr>\n",
       "    <tr>\n",
       "      <th>LogisticRegression</th>\n",
       "      <td>0.64</td>\n",
       "      <td>0.64</td>\n",
       "      <td>0.64</td>\n",
       "      <td>0.64</td>\n",
       "      <td>0.02</td>\n",
       "    </tr>\n",
       "    <tr>\n",
       "      <th>LinearSVC</th>\n",
       "      <td>0.64</td>\n",
       "      <td>0.64</td>\n",
       "      <td>0.64</td>\n",
       "      <td>0.64</td>\n",
       "      <td>0.04</td>\n",
       "    </tr>\n",
       "    <tr>\n",
       "      <th>RidgeClassifier</th>\n",
       "      <td>0.64</td>\n",
       "      <td>0.64</td>\n",
       "      <td>0.64</td>\n",
       "      <td>0.64</td>\n",
       "      <td>0.02</td>\n",
       "    </tr>\n",
       "    <tr>\n",
       "      <th>RidgeClassifierCV</th>\n",
       "      <td>0.64</td>\n",
       "      <td>0.64</td>\n",
       "      <td>0.64</td>\n",
       "      <td>0.64</td>\n",
       "      <td>0.01</td>\n",
       "    </tr>\n",
       "    <tr>\n",
       "      <th>LinearDiscriminantAnalysis</th>\n",
       "      <td>0.64</td>\n",
       "      <td>0.64</td>\n",
       "      <td>0.64</td>\n",
       "      <td>0.64</td>\n",
       "      <td>0.03</td>\n",
       "    </tr>\n",
       "    <tr>\n",
       "      <th>CalibratedClassifierCV</th>\n",
       "      <td>0.63</td>\n",
       "      <td>0.63</td>\n",
       "      <td>0.63</td>\n",
       "      <td>0.63</td>\n",
       "      <td>0.03</td>\n",
       "    </tr>\n",
       "    <tr>\n",
       "      <th>QuadraticDiscriminantAnalysis</th>\n",
       "      <td>0.63</td>\n",
       "      <td>0.63</td>\n",
       "      <td>0.63</td>\n",
       "      <td>0.62</td>\n",
       "      <td>0.02</td>\n",
       "    </tr>\n",
       "    <tr>\n",
       "      <th>BernoulliNB</th>\n",
       "      <td>0.61</td>\n",
       "      <td>0.61</td>\n",
       "      <td>0.61</td>\n",
       "      <td>0.61</td>\n",
       "      <td>0.01</td>\n",
       "    </tr>\n",
       "    <tr>\n",
       "      <th>GaussianNB</th>\n",
       "      <td>0.60</td>\n",
       "      <td>0.60</td>\n",
       "      <td>0.60</td>\n",
       "      <td>0.60</td>\n",
       "      <td>0.01</td>\n",
       "    </tr>\n",
       "    <tr>\n",
       "      <th>NuSVC</th>\n",
       "      <td>0.60</td>\n",
       "      <td>0.60</td>\n",
       "      <td>0.60</td>\n",
       "      <td>0.60</td>\n",
       "      <td>0.49</td>\n",
       "    </tr>\n",
       "    <tr>\n",
       "      <th>NearestCentroid</th>\n",
       "      <td>0.60</td>\n",
       "      <td>0.60</td>\n",
       "      <td>0.60</td>\n",
       "      <td>0.60</td>\n",
       "      <td>0.01</td>\n",
       "    </tr>\n",
       "    <tr>\n",
       "      <th>PassiveAggressiveClassifier</th>\n",
       "      <td>0.59</td>\n",
       "      <td>0.59</td>\n",
       "      <td>0.59</td>\n",
       "      <td>0.59</td>\n",
       "      <td>0.01</td>\n",
       "    </tr>\n",
       "    <tr>\n",
       "      <th>Perceptron</th>\n",
       "      <td>0.53</td>\n",
       "      <td>0.53</td>\n",
       "      <td>0.53</td>\n",
       "      <td>0.53</td>\n",
       "      <td>0.01</td>\n",
       "    </tr>\n",
       "    <tr>\n",
       "      <th>DummyClassifier</th>\n",
       "      <td>0.50</td>\n",
       "      <td>0.50</td>\n",
       "      <td>0.50</td>\n",
       "      <td>0.33</td>\n",
       "      <td>0.01</td>\n",
       "    </tr>\n",
       "  </tbody>\n",
       "</table>\n",
       "</div>"
      ],
      "text/plain": [
       "                               Accuracy  Balanced Accuracy  ROC AUC  F1 Score  \\\n",
       "Model                                                                           \n",
       "ExtraTreesClassifier               0.77               0.77     0.77      0.77   \n",
       "RandomForestClassifier             0.77               0.77     0.77      0.77   \n",
       "BaggingClassifier                  0.75               0.75     0.75      0.75   \n",
       "KNeighborsClassifier               0.73               0.73     0.73      0.73   \n",
       "DecisionTreeClassifier             0.73               0.73     0.73      0.73   \n",
       "ExtraTreeClassifier                0.72               0.72     0.72      0.72   \n",
       "LabelPropagation                   0.69               0.69     0.69      0.69   \n",
       "LabelSpreading                     0.68               0.68     0.68      0.68   \n",
       "AdaBoostClassifier                 0.66               0.66     0.66      0.66   \n",
       "SVC                                0.66               0.66     0.66      0.66   \n",
       "SGDClassifier                      0.64               0.64     0.64      0.64   \n",
       "LogisticRegression                 0.64               0.64     0.64      0.64   \n",
       "LinearSVC                          0.64               0.64     0.64      0.64   \n",
       "RidgeClassifier                    0.64               0.64     0.64      0.64   \n",
       "RidgeClassifierCV                  0.64               0.64     0.64      0.64   \n",
       "LinearDiscriminantAnalysis         0.64               0.64     0.64      0.64   \n",
       "CalibratedClassifierCV             0.63               0.63     0.63      0.63   \n",
       "QuadraticDiscriminantAnalysis      0.63               0.63     0.63      0.62   \n",
       "BernoulliNB                        0.61               0.61     0.61      0.61   \n",
       "GaussianNB                         0.60               0.60     0.60      0.60   \n",
       "NuSVC                              0.60               0.60     0.60      0.60   \n",
       "NearestCentroid                    0.60               0.60     0.60      0.60   \n",
       "PassiveAggressiveClassifier        0.59               0.59     0.59      0.59   \n",
       "Perceptron                         0.53               0.53     0.53      0.53   \n",
       "DummyClassifier                    0.50               0.50     0.50      0.33   \n",
       "\n",
       "                               Time Taken  \n",
       "Model                                      \n",
       "ExtraTreesClassifier                 0.23  \n",
       "RandomForestClassifier               0.35  \n",
       "BaggingClassifier                    0.06  \n",
       "KNeighborsClassifier                 0.05  \n",
       "DecisionTreeClassifier               0.02  \n",
       "ExtraTreeClassifier                  0.01  \n",
       "LabelPropagation                     0.26  \n",
       "LabelSpreading                       0.35  \n",
       "AdaBoostClassifier                   0.14  \n",
       "SVC                                  0.41  \n",
       "SGDClassifier                        0.02  \n",
       "LogisticRegression                   0.02  \n",
       "LinearSVC                            0.04  \n",
       "RidgeClassifier                      0.02  \n",
       "RidgeClassifierCV                    0.01  \n",
       "LinearDiscriminantAnalysis           0.03  \n",
       "CalibratedClassifierCV               0.03  \n",
       "QuadraticDiscriminantAnalysis        0.02  \n",
       "BernoulliNB                          0.01  \n",
       "GaussianNB                           0.01  \n",
       "NuSVC                                0.49  \n",
       "NearestCentroid                      0.01  \n",
       "PassiveAggressiveClassifier          0.01  \n",
       "Perceptron                           0.01  \n",
       "DummyClassifier                      0.01  "
      ]
     },
     "execution_count": 19,
     "metadata": {},
     "output_type": "execute_result"
    }
   ],
   "source": [
    "models"
   ]
  },
  {
   "cell_type": "code",
   "execution_count": 20,
   "metadata": {},
   "outputs": [],
   "source": [
    "models.to_csv(\"scores.csv\")\n",
    "scores = pd.read_csv(\"scores.csv\", nrows=save_k_top_model)\n",
    "\n",
    "for model_name in scores[\"Model\"]:\n",
    "    model = clf.models[model_name]\n",
    "\n",
    "    with open(f\"models/{model_name}.pickle\", \"wb\") as output_file:\n",
    "        pickle.dump(model, output_file)"
   ]
  }
 ],
 "metadata": {
  "kernelspec": {
   "display_name": "lazypredict",
   "language": "python",
   "name": "python3"
  },
  "language_info": {
   "codemirror_mode": {
    "name": "ipython",
    "version": 3
   },
   "file_extension": ".py",
   "mimetype": "text/x-python",
   "name": "python",
   "nbconvert_exporter": "python",
   "pygments_lexer": "ipython3",
   "version": "3.12.2"
  }
 },
 "nbformat": 4,
 "nbformat_minor": 2
}
